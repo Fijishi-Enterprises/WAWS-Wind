{
 "cells": [
  {
   "cell_type": "markdown",
   "metadata": {},
   "source": [
    "<center>\n",
    "# Getting started with the brightwind library on Windows 10\n",
    "</center>\n",
    "***"
   ]
  },
  {
   "cell_type": "markdown",
   "metadata": {},
   "source": [
    "<div align='right'>\n",
    "Last updated: 24 June, 2019\n",
    "</div>"
   ]
  },
  {
   "cell_type": "markdown",
   "metadata": {},
   "source": [
    "## Outline: \n",
    "\n",
    "This guide will lead you through all the steps and installations required to start using the brightwind library, assuming a basic level of computer knowledge. These steps will include:\n",
    "\n",
    "- Installing the Anaconda Python Distribution\n",
    "- Installing the brightwind library\n",
    "- Using the brightwind library in Jupyter notebooks\n",
    "\n",
    "\n",
    "***"
   ]
  },
  {
   "cell_type": "markdown",
   "metadata": {},
   "source": [
    "### Installing the Anaconda Python distribution\n",
    "\n",
    "Anaconda is a free and open-source distribution of the Python and R programming languages for scientific computing that aims to simplify package management and deployment. Anaconda is the easiest way to install Python and all the associated packages for a Windows environment. \n",
    "\n",
    "\n",
    "1. Open up the Anaconda download page in a seperate window by clicking https://www.anaconda.com/distribution/.\n",
    "1. Make sure you select the Windows icon as Mac OS is selected by default.\n",
    "1. Click the download button under the Python 3.7 version. This will download the entire package so may take a while.\n",
    "\n",
    "<div style='margin-top: 3em; margin-bottom: 3em;'>\n",
    "<center>\n",
    "![image1](images/getting_started_on_windows_1.png)\n",
    "</center>\n",
    "</div>"
   ]
  },
  {
   "cell_type": "markdown",
   "metadata": {},
   "source": [
    "<ol start=\"4\">\n",
    "  <li>Depending on browser you may need to run the downloaded .exe file to install Anaconda and follow the usual prompts. You can find more detailed instructions here https://docs.anaconda.com/anaconda/install/windows/</li>\n",
    "</ol>\n",
    "\n",
    "<div style='margin-top: 3em; margin-bottom: 3em;'>\n",
    "<center>\n",
    "![image2](images/getting_started_on_windows_2.png)\n",
    "</center>\n",
    "</div>"
   ]
  },
  {
   "cell_type": "markdown",
   "metadata": {},
   "source": [
    "### Installing the brightwind library\n",
    "\n",
    "<ol start=\"5\">\n",
    "  <li>Once the installation has completed, go to the Start menu and search 'Anaconda'. Make sure two applications appear, the 'Anaconda Prompt' and the 'Anaconda Navigator', as shown in the image below. If you cannot see both applications, it is likely that Anaconda did not install properly, as this has been known to occur. Please uninstall and try again.</li>\n",
    "</ol>\n",
    "\n",
    "<div style='margin-top: 3em; margin-bottom: 3em;'>\n",
    "<center>\n",
    "![image4](images/getting_started_on_windows_4.png)\n",
    "</center>\n",
    "</div>\n",
    "\n",
    "<ol start=\"6\">\n",
    "  <li>With the 'Anaconda Prompt' highlighted, open this command line interface in administrator mode by clicking 'Run as Administrator'.</li>\n",
    "</ol>"
   ]
  },
  {
   "cell_type": "markdown",
   "metadata": {},
   "source": [
    "<ol start=\"7\">\n",
    "  <li>Once opened you can now install the brightwind library using pip. Simply type:</li>\n",
    "</ol>\n",
    "\n",
    "```\n",
    "> pip install brightwind \n",
    "```\n",
    "\n",
    "&nbsp;&nbsp;&nbsp;&nbsp;&nbsp;&nbsp;&nbsp;&nbsp;If you receive errors stating that the command **pip** does not exist, it is likely that Anaconda did not install properly. Please uninstall and try again. \n",
    "\n",
    "<div style='margin-top: 3em; margin-bottom: 3em;'>\n",
    "<center>\n",
    "![image5](images/getting_started_on_windows_5.png)\n",
    "</center>\n",
    "</div>\n",
    "\n",
    "***"
   ]
  },
  {
   "cell_type": "markdown",
   "metadata": {},
   "source": [
    "### Using the brightwind library in Jupyter notebooks\n",
    "\n",
    "<ol start=\"8\">\n",
    "  <li>The easiest way to use the brightwind library is through Jupyter Notebooks. First open Anaconda Navigator, which you should have installed previously, from the Windows start menu.</li>\n",
    "  <li>Once opened, launch a Jupyter Notebook by clicking the button as shown in the image below. This will open a window in your default web browser.</li>\n",
    "</ol>\n",
    "\n",
    "<div style='margin-top: 3em; margin-bottom: 3em;'>\n",
    "<center>\n",
    "![image6](images/getting_started_on_windows_6.png)\n",
    "</center>\n",
    "</div>"
   ]
  },
  {
   "cell_type": "markdown",
   "metadata": {},
   "source": [
    "&nbsp;&nbsp;&nbsp;&nbsp;&nbsp;&nbsp;&nbsp;&nbsp;First page of Jupyter Notebooks is a file explorer.\n",
    "\n",
    "<div style='margin-top: 3em; margin-bottom: 3em;'>\n",
    "<center>\n",
    "![image7](images/getting_started_on_windows_7.png)\n",
    "</center>\n",
    "</div>"
   ]
  },
  {
   "cell_type": "markdown",
   "metadata": {},
   "source": [
    "<ol start=\"10\">\n",
    "  <li>Navigate to a folder where you want to work in. In this case `../Documents/Analysis`</li>\n",
    "  <li>When in this folder you can now create a new Notebook. In the top right-hand corner of the screen, click ‘New’ and then ‘Python 3’ to open a new Python kernel. This will open in a new tab.</li>\n",
    "</ol>\n",
    "\n",
    "<div style='margin-top: 3em; margin-bottom: 3em;'>\n",
    "<center>\n",
    "![image8](images/getting_started_on_windows_8.png)\n",
    "</center>\n",
    "</div>"
   ]
  },
  {
   "cell_type": "markdown",
   "metadata": {},
   "source": [
    "&nbsp;&nbsp;&nbsp;&nbsp;&nbsp;&nbsp;&nbsp;&nbsp;Opens a new tab where you can use Python and the brightwind library.\n",
    "\n",
    "<div style='margin-top: 3em; margin-bottom: 3em;'>\n",
    "<center>\n",
    "![image9](images/getting_started_on_windows_9.png)\n",
    "</center>\n",
    "</div>"
   ]
  },
  {
   "cell_type": "markdown",
   "metadata": {},
   "source": [
    "<ol start=\"12\">\n",
    "  <li>In the green highlighted cell type `import brightwind as bw` to import the brightwind library.</li>\n",
    "  <li>To run this cell you can either click the play button in the menu bar as shown in the image below or use '**shift**' + '**Enter**' on your keyboard.</li>\n",
    "</ol>\n",
    "\n",
    "<div style='margin-top: 3em; margin-bottom: 3em;'>\n",
    "<center>\n",
    "![image10](images/getting_started_on_windows_10.png)\n",
    "</center>\n",
    "</div>\n"
   ]
  },
  {
   "cell_type": "markdown",
   "metadata": {},
   "source": [
    "<ol start=\"14\">\n",
    "  <li>You can now use all the functionaly of the library. The first step of loading some data into memory can be done by typing the following:</li>\n",
    "</ol>\n",
    "\n",
    "```python\n",
    "data = bw.load_csv(r'C:\\Users\\Stephen\\Documents\\Analysis\\demo_data.csv')\n",
    "data.head(5)\n",
    "```"
   ]
  },
  {
   "cell_type": "markdown",
   "metadata": {},
   "source": [
    "<div style='margin-top: 3em; margin-bottom: 3em;'>\n",
    "<center>\n",
    "![image11](images/getting_started_on_windows_11.png)\n",
    "</center>\n",
    "</div>\n",
    "\n",
    "&nbsp;&nbsp;&nbsp;&nbsp;&nbsp;&nbsp;&nbsp;&nbsp;To use the brightwind library, please see the next tutorial.\n",
    "\n",
    "***\n"
   ]
  },
  {
   "cell_type": "markdown",
   "metadata": {},
   "source": [
    "***\n",
    "This tutorial can be downloaded as a Jupyter Notebook from the following link:\n",
    "<br>\n",
    "https://github.com/brightwind-dev/brightwind/tree/master/docs/source/tutorials/getting_started_on_windows.ipynb\n",
    "\n",
    "***"
   ]
  }
 ],
 "metadata": {
  "kernelspec": {
   "display_name": "Python 3",
   "language": "python",
   "name": "python3"
  },
  "language_info": {
   "codemirror_mode": {
    "name": "ipython",
    "version": 3
   },
   "file_extension": ".py",
   "mimetype": "text/x-python",
   "name": "python",
   "nbconvert_exporter": "python",
   "pygments_lexer": "ipython3",
   "version": "3.6.7"
  }
 },
 "nbformat": 4,
 "nbformat_minor": 2
}
