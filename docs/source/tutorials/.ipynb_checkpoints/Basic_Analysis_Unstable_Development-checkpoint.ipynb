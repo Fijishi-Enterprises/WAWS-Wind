{
 "cells": [
  {
   "cell_type": "markdown",
   "metadata": {},
   "source": [
    "# Basic Analysis\n",
    "***\n",
    "## Using the brightwind library in Jupyter Notebook\n",
    "\n",
    "* With brightwind installed and opened in the Jupyter notebook, you can begin to analyse data using a wide range of functions. First, import the brightwind folder into the Jupyter notebook.\n",
    "```\n",
    "Import brightind as bw\n",
    "```\n",
    "* Now, to display the available functions type\n",
    "```\n",
    "bw.\n",
    "```\n",
    "and press 'Tab'.\n",
    "<br>\n",
    "<br>\n",
    "* Once you have selected which function from the list to use, open parenthesis, i.e:\n",
    "```\n",
    "bw.monthly_means() \n",
    "```\n",
    "* To view the list of necessary inputs for this function, press ‘Shift’ and ‘Tab’ simultaneously.\n",
    "<br>\n",
    "\n",
    "![](Unstable_Basic_Analysis_1.png)\n",
    "\n",
    "***"
   ]
  },
  {
   "cell_type": "markdown",
   "metadata": {},
   "source": [
    "## Importing Data\n",
    "* Most data analysis will involve the importing of data from excel spreadsheets or .csv files. To import data into the brightwind workspace from a <em>CSV</em> file, we can use the load_csv function.\n",
    "<br>\n",
    "\n",
    "* For example, to import a demo <em>.csv</em> file such as the  <em>MERRA-2_SE_2000-01-01_2017-06-30.csv</em> distributed with brightwind, type:\n",
    "\n",
    "```\n",
    "mydata = bw.load_csv(r’C:\\Users\\myuser\\brightwind\\datasets\\demo\\MERRA-2_SE_2000-01-01_2017-06-30.csv’) \n",
    "\n",
    "```\n",
    "and press ‘Shift’ and ‘Enter’.\n",
    "\n",
    "* This will load the data form the excel spreadsheet into a pandas DataFrame, <em>mydata</em>, shown below:\n",
    "\n",
    "![](Unstable_Basic_Analysis_2.png)\n",
    "\n",
    "<br>\n",
    "\n",
    "* Once this data is loaded into the brightwind environment, it can be used within different functions. For example, to calculate the monthly mean wind speeds from the first column of mydata, i.e the <em>WS50m_m/s</em>  column, for the first six months of the year, type:\n",
    "```\n",
    "bw.monthly_means(mydata.loc[:'2000-06-30 23:00:00','WS50m_m/s'])\n",
    "```\n",
    "\n",
    "* This should produce the following graph: \n",
    "\n",
    "![](Unstable_Basic_Analysis_3.png)\n",
    "***"
   ]
  },
  {
   "cell_type": "code",
   "execution_count": null,
   "metadata": {},
   "outputs": [],
   "source": []
  }
 ],
 "metadata": {
  "kernelspec": {
   "display_name": "Python 3",
   "language": "python",
   "name": "python3"
  },
  "language_info": {
   "codemirror_mode": {
    "name": "ipython",
    "version": 3
   },
   "file_extension": ".py",
   "mimetype": "text/x-python",
   "name": "python",
   "nbconvert_exporter": "python",
   "pygments_lexer": "ipython3",
   "version": "3.7.3"
  }
 },
 "nbformat": 4,
 "nbformat_minor": 2
}
