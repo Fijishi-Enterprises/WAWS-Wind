{
 "cells": [
  {
   "cell_type": "markdown",
   "metadata": {},
   "source": [
    "# Getting Started (Unstable development version)\n",
    "***\n",
    "This guide will lead you through all the steps and installations required to start using and contributing to the brightwind library, assuming a decent level of knowledge regarding Git, Python and Jupyter notebooks. This library can be updated at any time to include the latest additions and updates. These steps will include:\n",
    "\n",
    "- Cloning the brightwind library from git and installing \n",
    "- Downloading Anaconda Pyton distribution\n",
    "- Using the brightwind library in Jupyter notebooks\n",
    "\n",
    "***"
   ]
  },
  {
   "cell_type": "markdown",
   "metadata": {},
   "source": [
    "# Setup\n",
    "***\n",
    "### Step 1: \n",
    "\n",
    "- Clone the brightwind library from the brightwind git repository, located at: https://github.com/brightwind-dev/brightwind\n",
    "<br>\n",
    "- When in your desired location, type the following command:\n",
    "\n",
    "```\n",
    "$ git clone https://github.com/brightwind-dev/brightwind.git\n",
    "```\n",
    "\n",
    "- The library can of course be updated at anytime using:\n",
    "\n",
    "```\n",
    "$ git pull\n",
    "```\n",
    "***"
   ]
  },
  {
   "cell_type": "markdown",
   "metadata": {},
   "source": [
    "### Step 2:\n",
    "\n",
    "- For Windows users, download the Anaconda Python distribution, found here: https://www.anaconda.com/distribution/ to install both Jupyter Notebooks and <em>pip</em>. Python 3.6 or later is required to use the library. Jupyter Notebook can be opened from within Anaconda Navigator.\n",
    "***"
   ]
  },
  {
   "cell_type": "markdown",
   "metadata": {},
   "source": [
    "### Step 3:\n",
    "\n",
    "- Install the brightwind library using <em>pip</em>, as shown below.\n",
    "\n",
    "```\n",
    "C:\\...\\brightwind> pip install -e .\n",
    "```\n",
    "Don’t forget the dot at the end. This command will install the package using <em>pip</em>.\n",
    "***"
   ]
  }
 ],
 "metadata": {
  "kernelspec": {
   "display_name": "Python 3",
   "language": "python",
   "name": "python3"
  },
  "language_info": {
   "codemirror_mode": {
    "name": "ipython",
    "version": 3
   },
   "file_extension": ".py",
   "mimetype": "text/x-python",
   "name": "python",
   "nbconvert_exporter": "python",
   "pygments_lexer": "ipython3",
   "version": "3.7.3"
  }
 },
 "nbformat": 4,
 "nbformat_minor": 2
}
