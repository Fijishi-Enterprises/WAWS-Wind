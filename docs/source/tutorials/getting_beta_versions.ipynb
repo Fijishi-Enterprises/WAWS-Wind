{
 "cells": [
  {
   "cell_type": "markdown",
   "metadata": {},
   "source": [
    "<br>\n",
    "<div style=\"text-align: center\">\n",
    "    <h1>Getting beta versions of the brightwind library</h1>\n",
    "</div>\n",
    "***\n"
   ]
  },
  {
   "cell_type": "code",
   "execution_count": 1,
   "metadata": {
    "scrolled": true
   },
   "outputs": [
    {
     "name": "stdout",
     "output_type": "stream",
     "text": [
      "Last updated: 24 June, 2019\n"
     ]
    }
   ],
   "source": [
    "import datetime\n",
    "print('Last updated: {}'.format(datetime.date.today().strftime('%d %B, %Y')))"
   ]
  },
  {
   "cell_type": "markdown",
   "metadata": {},
   "source": [
    "***\n",
    "## Outline:\n",
    "\n",
    "This guide will lead you through all the steps required to get the latest beta versions of the library before they are released on PyPI. This tutorial assummes a decent level of knowledge regarding Git, Python, Anaconda (if on Windows) and Jupyter notebooks. Once setup the library can easily be updated at any time to include the latest additions and updates. These steps will include:\n",
    "\n",
    " 1 Cloning the brightwind library\n",
    " 1 Installing\n",
    " 1 Using the brightwind library in Jupyter notebooks\n",
    "<br>\n",
    "<br>\n",
    "***"
   ]
  },
  {
   "attachments": {},
   "cell_type": "markdown",
   "metadata": {},
   "source": [
    "## Step 1: Cloning the brightwind library\n",
    "\n",
    "This assumes that you have pip and git installed already.\n",
    "\n",
    "- If on Windows, open up the Anaconda Prompt command line utility. Otherwise open up a command line.\n",
    "- Navigate and/or create a folder where you keep all of your repositories\n",
    "\n",
    "<br>\n",
    "<center>\n",
    "![image1](images/getting_beta_versions_1.png)\n",
    "</center>\n",
    "<br>\n",
    "\n",
    "- Next clone the brightwind library from the brightwind GitHub repository, located at: https://github.com/brightwind-dev/brightwind\n",
    "<br>\n",
    "```\n",
    "> git clone https://github.com/brightwind-dev/brightwind.git\n",
    "```\n",
    "\n",
    "<br>\n",
    "<center>\n",
    "![image2](images/getting_beta_versions_2.png)\n",
    "</center>\n",
    "<br>\n",
    "\n",
    "<br>\n",
    "<center>\n",
    "![image3](images/getting_beta_versions_3.png)\n",
    "</center>\n",
    "<br>\n",
    "- The library can of course be updated at anytime using git pull when you navigate to the brightwind directory.\n",
    "\n",
    "```\n",
    "> cd brightwind\n",
    "> git pull\n",
    "```\n",
    "<br>\n",
    "<center>\n",
    "![image4](images/getting_beta_versions_4.png)\n",
    "</center>\n",
    "<br>\n",
    "***"
   ]
  },
  {
   "cell_type": "markdown",
   "metadata": {},
   "source": [
    "### Step 2: Installing\n",
    "\n",
    "- Open up the Anaconda Prompit in Administrator mode by right clicking (in Windows) the Anaconda Prompt icon and 'Run as Administrator'.\n",
    "\n",
    "<br>\n",
    "<center>\n",
    "![image5](images/getting_beta_versions_5.png)\n",
    "</center>\n",
    "<br>\n",
    "\n",
    "- Navigate to the brightwind folder and with pip, the library can be installed using:\n",
    "```\n",
    "> pip install -e .\n",
    "```\n",
    "\\* Don’t forget the dot at the end.\n",
    "\n",
    "If the brightwind library was installed previously this will automatically uninstall it before the new one is installed.\n",
    "\n",
    "<br>\n",
    "<center>\n",
    "![image6](images/getting_beta_versions_6.png)\n",
    "</center>\n",
    "<br>\n",
    "\n",
    "<br>\n",
    "***"
   ]
  },
  {
   "cell_type": "markdown",
   "metadata": {},
   "source": [
    "### Step 3: Using the brightwind library in Jupyter notebooks \n",
    "\n",
    "- Install the brightwind library using <em>pip</em>, as shown below.\n",
    "\n",
    "def f(x):\n",
    "    \"\"\"a docstring\"\"\"\n",
    "    return x**2\n",
    "\n",
    "```\n",
    "C:\\...\\brightwind> pip install -e .\n",
    "```\n",
    "Don’t forget the dot at the end. This command will install the package using <em>pip</em>.\n",
    "***"
   ]
  }
 ],
 "metadata": {
  "kernelspec": {
   "display_name": "Python 3",
   "language": "python",
   "name": "python3"
  },
  "language_info": {
   "codemirror_mode": {
    "name": "ipython",
    "version": 3
   },
   "file_extension": ".py",
   "mimetype": "text/x-python",
   "name": "python",
   "nbconvert_exporter": "python",
   "pygments_lexer": "ipython3",
   "version": "3.6.7"
  }
 },
 "nbformat": 4,
 "nbformat_minor": 2
}
